{
  "cells": [
    {
      "cell_type": "markdown",
      "metadata": {
        "id": "L7rJg4FBsE2a"
      },
      "source": [
        "# Augmenteur de données"
      ]
    },
    {
      "cell_type": "markdown",
      "metadata": {
        "id": "Z1HZJyLuRNFl"
      },
      "source": [
        "## imports"
      ]
    },
    {
      "cell_type": "code",
      "execution_count": null,
      "metadata": {
        "id": "qGxKKRfduIlQ"
      },
      "outputs": [],
      "source": [
        "!pip install nlpaug"
      ]
    },
    {
      "cell_type": "code",
      "execution_count": null,
      "metadata": {
        "id": "0HiZhlvauSqK"
      },
      "outputs": [],
      "source": [
        "!pip install transformers"
      ]
    },
    {
      "cell_type": "code",
      "execution_count": null,
      "metadata": {
        "id": "qIE9oI2lsHGr"
      },
      "outputs": [],
      "source": [
        "import nlpaug.augmenter.word as naw\n",
        "import nlpaug.flow.sometimes as naf\n",
        "import pandas as pd\n",
        "\n",
        "aug_bert = naw.ContextualWordEmbsAug(model_path='distilbert-base-uncased', action=\"insert\", top_k=1, device='cuda')"
      ]
    },
    {
      "cell_type": "code",
      "execution_count": null,
      "metadata": {
        "colab": {
          "base_uri": "https://localhost:8080/"
        },
        "id": "lT-RhTo6KJZH",
        "outputId": "1513e316-8045-434b-ea33-3da1d3a9d71d"
      },
      "outputs": [
        {
          "name": "stdout",
          "output_type": "stream",
          "text": [
            "Drive already mounted at /content/drive; to attempt to forcibly remount, call drive.mount(\"/content/drive\", force_remount=True).\n"
          ]
        }
      ],
      "source": [
        "from google.colab import drive\n",
        "drive.mount('/content/drive')"
      ]
    },
    {
      "cell_type": "markdown",
      "metadata": {
        "id": "jCqi1JLLsTEi"
      },
      "source": [
        "## Dataset"
      ]
    },
    {
      "cell_type": "code",
      "source": [
        "import pandas as pd \n",
        "\n",
        "df = pd.read_csv('drive/My Drive/initial_data.csv')\n",
        "df = pd.DataFrame(data=df)"
      ],
      "metadata": {
        "id": "cNzgYkQOPqXL"
      },
      "execution_count": null,
      "outputs": []
    },
    {
      "cell_type": "code",
      "execution_count": null,
      "metadata": {
        "colab": {
          "background_save": true
        },
        "id": "qU9a1mXAsOpu"
      },
      "outputs": [],
      "source": [
        "df_augment = df.copy(deep=True)\n",
        "n = 1000\n",
        "i = 0\n",
        "\n",
        "for (req, rep, p, n_) in zip(df['request'], df['response'], df['pages'], df['name']):\n",
        "  i = i + 1\n",
        "  result = aug_bert.augment(req, n=n)\n",
        "  print(f\"Inside {i} Loop , {result[0]}\")\n",
        "  df_augment = pd.concat([df_augment,pd.DataFrame(data={'request':result, 'response': rep, 'pages': p, 'name':n_})], ignore_index=True)\n",
        "\n",
        "print(len(df_augment))"
      ]
    },
    {
      "cell_type": "code",
      "execution_count": null,
      "metadata": {
        "id": "5BOkJtOH-s_T"
      },
      "outputs": [],
      "source": [
        "df_save = df_augment.copy()"
      ]
    },
    {
      "cell_type": "code",
      "execution_count": null,
      "metadata": {
        "colab": {
          "base_uri": "https://localhost:8080/"
        },
        "id": "7mI5FAMVBOXs",
        "outputId": "6d22cb08-c2a6-454f-cfbd-796fd1b10df7"
      },
      "outputs": [
        {
          "data": {
            "text/plain": [
              "42042"
            ]
          },
          "execution_count": 153,
          "metadata": {},
          "output_type": "execute_result"
        }
      ],
      "source": [
        "df_augment = df_save.copy()\n",
        "len(df_augment)"
      ]
    },
    {
      "cell_type": "code",
      "execution_count": null,
      "metadata": {
        "id": "a80TjGYI7DGp"
      },
      "outputs": [],
      "source": [
        "for i in df_augment.iterrows():\n",
        "  if(i[1]['response'] == 1):\n",
        "    if(i[1]['request'].find('EXPR') != -1):\n",
        "      df_augment.at[i[0], 'request'] = i[1]['request'].replace(\"EXPR\",\".\")\n",
        "    elif(i[1]['request'].find('expr') != -1):\n",
        "      df_augment.at[i[0], 'name'] = i[1]['name'].replace(\"expr\",\".\")\n",
        "\n",
        "\n",
        "for i in df_augment.iterrows():\n",
        "  if(type(i[1]['name']) == str):\n",
        "    if(i[1]['name'].find('EXPR') != -1):\n",
        "      df_augment.at[i[0], 'name'] = i[1]['name'].replace(\"EXPR\",\".\")\n",
        "    elif(i[1]['name'].find('expr') != -1):\n",
        "      df_augment.at[i[0], 'name'] = i[1]['name'].replace(\"expr\",\".\")"
      ]
    },
    {
      "cell_type": "code",
      "execution_count": null,
      "metadata": {
        "colab": {
          "base_uri": "https://localhost:8080/"
        },
        "id": "HE22n6w6TcC8",
        "outputId": "73e39556-3cd2-435c-bc59-51c9bb1778fb"
      },
      "outputs": [
        {
          "data": {
            "text/plain": [
              "42042"
            ]
          },
          "execution_count": 155,
          "metadata": {},
          "output_type": "execute_result"
        }
      ],
      "source": [
        "len(df_augment)"
      ]
    },
    {
      "cell_type": "code",
      "execution_count": null,
      "metadata": {
        "id": "F90eNlezsQgj"
      },
      "outputs": [],
      "source": [
        "df_augment.to_csv('data_augmented.csv')\n",
        "!cp data_augmented.csv \"drive/My Drive/\""
      ]
    }
  ],
  "metadata": {
    "accelerator": "TPU",
    "colab": {
      "collapsed_sections": [],
      "provenance": [],
      "toc_visible": true
    },
    "gpuClass": "standard",
    "kernelspec": {
      "display_name": "Python 3",
      "name": "python3"
    }
  },
  "nbformat": 4,
  "nbformat_minor": 0
}